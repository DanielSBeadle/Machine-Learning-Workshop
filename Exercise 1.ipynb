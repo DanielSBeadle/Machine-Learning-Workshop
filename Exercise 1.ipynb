{
 "cells": [
  {
   "cell_type": "markdown",
   "id": "70cacca6",
   "metadata": {},
   "source": [
    "**In this workshop, your job is to train a machine learning algorithm to rate wines on a scale from 1 to 10. Since the algorithm can't taste the wines itself, you are provided with a file containing the properties of the wines, as well as ratings given by a wine expert. Your task is to train a machine learning algorithm to give ratings to wines as similarly as possible to the expert. At the end of the workshop, you will all submit an algorithm. I will run that algorithm on a separate dataset rated by the same expert. Whoever's algorithm is closest to the expert's predictions will be crowned the champion of the machine learning workshop!**"
   ]
  },
  {
   "cell_type": "markdown",
   "id": "07e3f9ec",
   "metadata": {},
   "source": [
    "**Task 1**\n",
    "\n",
    "Pandas.read_csv() is used to read csv files. The return value of the function is a dataframe.\n",
    "Import pandas, and read the dataset.csv file using pandas.read_csv().\n",
    "Print the dataframe that is returned."
   ]
  },
  {
   "cell_type": "code",
   "execution_count": 1,
   "id": "3f1e8a1b",
   "metadata": {},
   "outputs": [],
   "source": [
    "# Code here"
   ]
  },
  {
   "cell_type": "markdown",
   "id": "8db9f44b",
   "metadata": {},
   "source": [
    "**Task 2**\n",
    "\n",
    "The machine learning algorithms in sklearn work with numerical values. Most of the properties in the dataset are already using numerical values. The 'type' property however, uses the categories 'red' and 'white'. This means, that if you want to use the 'type' property from the dataset, it has to be translated into numerical values. Use the replace function to replace the values 'red' and 'white' in the type column with numerical values."
   ]
  },
  {
   "cell_type": "code",
   "execution_count": 2,
   "id": "a344525d",
   "metadata": {},
   "outputs": [],
   "source": [
    "# Code here"
   ]
  },
  {
   "cell_type": "markdown",
   "id": "c0c7385d",
   "metadata": {},
   "source": [
    "**Task 3**\n",
    "\n",
    "Now it is time to split the data into training data and test data. First you will have to split the dataframe into two frames. One containing the ratings (y), and one containing all the other features (x). Then we can use train_test_split() to split the data into x_train, y_train, x_test and y_test. You will have to import the train_test_split function from sklearn.model_selection."
   ]
  },
  {
   "cell_type": "code",
   "execution_count": 3,
   "id": "92ff84e3",
   "metadata": {},
   "outputs": [],
   "source": [
    "# Code here"
   ]
  },
  {
   "cell_type": "markdown",
   "id": "ba9d65ce",
   "metadata": {},
   "source": [
    "**Task 4**\n",
    "\n",
    "Before we train our machinlearning algorithm we are going to use a dummy regressor to have something to compare our results with. In this task you should import the dummy regressor from sklearn.dummy, initialize the dummy regressor with strategy mean, then fit it to the training data."
   ]
  },
  {
   "cell_type": "code",
   "execution_count": 4,
   "id": "472d3fae",
   "metadata": {},
   "outputs": [],
   "source": [
    "# Code here"
   ]
  },
  {
   "cell_type": "markdown",
   "id": "e9cf0172",
   "metadata": {},
   "source": [
    "**Task 5** \n",
    "\n",
    "Now, let's use the dummy regressor to predict the ratings based on our test data features. We should make two seperate predictions. One based on the x_train data, and one based on the x_test data. "
   ]
  },
  {
   "cell_type": "code",
   "execution_count": 5,
   "id": "d6273dc8",
   "metadata": {},
   "outputs": [],
   "source": [
    "# Code here"
   ]
  },
  {
   "cell_type": "markdown",
   "id": "f43a442c",
   "metadata": {},
   "source": [
    "**Task 6**\n",
    "\n",
    "Let's see how well our dummy regressor does. We can import mean_squared_error from sklearn.metrics. We should compare the dummy models predictions to the y_train and the y_test values using mean_squared_error. We would always expect our model to performe better on the training data than on the test data however, if the difference in performance is large this may indicate overfitting. Because this is a dummy model, and not an actual machine learning model it is probably not overfitted."
   ]
  },
  {
   "cell_type": "code",
   "execution_count": 6,
   "id": "37cf1eb7",
   "metadata": {},
   "outputs": [],
   "source": [
    "# Code here"
   ]
  },
  {
   "cell_type": "markdown",
   "id": "7caa9dd7",
   "metadata": {},
   "source": [
    "**Task 7**\n",
    "\n",
    "Now it is time to train your models. You can pick one of the models from the presentation, or a different model. Similarly to what you did with the dummy regressor you should initalize the model, fit the model, use the model for predictions on training and test data, adn print the result.  \n",
    "\n",
    "You can try different models, as well as initializing the models using different parameters or removing features from the dataset. You can read more about each model in the sklearn kit at https://scikit-learn.org/stable/supervised_learning.html. To get the best score, you should try to find the perfect balance between underfiting and overfitting."
   ]
  },
  {
   "cell_type": "code",
   "execution_count": 7,
   "id": "5acdcef4",
   "metadata": {},
   "outputs": [],
   "source": [
    "# Code here"
   ]
  },
  {
   "cell_type": "markdown",
   "id": "c2afdc82",
   "metadata": {},
   "source": [
    "**Task 8**\n",
    "\n",
    "When you are happy with your model you can export your model using pickle. The file has to be stored as a .pickle file so that my scoring system is able to read the file. Name your file with your group name."
   ]
  },
  {
   "cell_type": "code",
   "execution_count": 8,
   "id": "b0737e2c",
   "metadata": {},
   "outputs": [],
   "source": [
    "# Code here"
   ]
  }
 ],
 "metadata": {
  "kernelspec": {
   "display_name": "Python 3 (ipykernel)",
   "language": "python",
   "name": "python3"
  },
  "language_info": {
   "codemirror_mode": {
    "name": "ipython",
    "version": 3
   },
   "file_extension": ".py",
   "mimetype": "text/x-python",
   "name": "python",
   "nbconvert_exporter": "python",
   "pygments_lexer": "ipython3",
   "version": "3.9.12"
  }
 },
 "nbformat": 4,
 "nbformat_minor": 5
}
