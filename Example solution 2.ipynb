{
 "cells": [
  {
   "cell_type": "code",
   "execution_count": 21,
   "id": "807ca5aa",
   "metadata": {
    "id": "807ca5aa"
   },
   "outputs": [],
   "source": [
    "import tensorflow as tf\n",
    "from tensorflow import keras\n",
    "from keras import layers"
   ]
  },
  {
   "cell_type": "markdown",
   "id": "pi3I91iDFMWt",
   "metadata": {
    "id": "pi3I91iDFMWt"
   },
   "source": [
    "**Task 1**"
   ]
  },
  {
   "cell_type": "code",
   "execution_count": 22,
   "id": "Roemxn5tFITV",
   "metadata": {
    "id": "Roemxn5tFITV"
   },
   "outputs": [],
   "source": [
    "(x_train, y_train), (x_test, y_test) = keras.datasets.cifar10.load_data()"
   ]
  },
  {
   "cell_type": "markdown",
   "id": "vxvS3GgjFVwm",
   "metadata": {
    "id": "vxvS3GgjFVwm"
   },
   "source": [
    "**Task 2**"
   ]
  },
  {
   "cell_type": "code",
   "execution_count": 23,
   "id": "TxD3Azx5FIVq",
   "metadata": {
    "id": "TxD3Azx5FIVq"
   },
   "outputs": [],
   "source": [
    "x_train = x_train / 255\n",
    "x_test = x_test / 255"
   ]
  },
  {
   "cell_type": "markdown",
   "id": "Hq-bFaP2FdQh",
   "metadata": {
    "id": "Hq-bFaP2FdQh"
   },
   "source": [
    "**Task 3**"
   ]
  },
  {
   "cell_type": "code",
   "execution_count": 24,
   "id": "fwc6TuqUFIYO",
   "metadata": {
    "id": "fwc6TuqUFIYO"
   },
   "outputs": [],
   "source": [
    "model = keras.Sequential([\n",
    "    # Convolutional layers\n",
    "    layers.Conv2D(16, (3,3), activation='relu', input_shape=(32,32,3)),\n",
    "    layers.MaxPooling2D((2,2)),\n",
    "    layers.Conv2D(16, (3,3), activation='relu'),\n",
    "    # Dense layers\n",
    "    layers.Flatten(),\n",
    "    layers.Dense(32, activation='relu'),\n",
    "    layers.Dense(10, activation='softmax')\n",
    "])"
   ]
  },
  {
   "cell_type": "markdown",
   "id": "v-jfp0m_FmnR",
   "metadata": {
    "id": "v-jfp0m_FmnR"
   },
   "source": [
    "**Task 4**"
   ]
  },
  {
   "cell_type": "code",
   "execution_count": 25,
   "id": "_c6ELmIwFIbW",
   "metadata": {
    "id": "_c6ELmIwFIbW"
   },
   "outputs": [],
   "source": [
    "model.compile(optimizer='adam', loss='sparse_categorical_crossentropy', metrics=['accuracy'])"
   ]
  },
  {
   "cell_type": "markdown",
   "id": "eyfGvjJbHQ2L",
   "metadata": {
    "id": "eyfGvjJbHQ2L"
   },
   "source": [
    "**Task 5**"
   ]
  },
  {
   "cell_type": "code",
   "execution_count": 26,
   "id": "MmaLH5oPFIpc",
   "metadata": {
    "colab": {
     "base_uri": "https://localhost:8080/"
    },
    "id": "MmaLH5oPFIpc",
    "outputId": "baccf6a3-4db1-4ef5-9349-8ac30a63938c"
   },
   "outputs": [
    {
     "name": "stdout",
     "output_type": "stream",
     "text": [
      "Epoch 1/10\n",
      "1563/1563 [==============================] - 47s 29ms/step - loss: 1.6076 - accuracy: 0.4149 - val_loss: 1.3904 - val_accuracy: 0.5017\n",
      "Epoch 2/10\n",
      "1563/1563 [==============================] - 44s 28ms/step - loss: 1.2954 - accuracy: 0.5389 - val_loss: 1.2021 - val_accuracy: 0.5753\n",
      "Epoch 3/10\n",
      "1563/1563 [==============================] - 45s 29ms/step - loss: 1.1588 - accuracy: 0.5909 - val_loss: 1.1408 - val_accuracy: 0.5956\n",
      "Epoch 4/10\n",
      "1563/1563 [==============================] - 44s 28ms/step - loss: 1.0734 - accuracy: 0.6243 - val_loss: 1.0626 - val_accuracy: 0.6325\n",
      "Epoch 5/10\n",
      "1563/1563 [==============================] - 44s 28ms/step - loss: 1.0179 - accuracy: 0.6461 - val_loss: 1.0590 - val_accuracy: 0.6341\n",
      "Epoch 6/10\n",
      "1563/1563 [==============================] - 46s 30ms/step - loss: 0.9722 - accuracy: 0.6603 - val_loss: 1.0496 - val_accuracy: 0.6351\n",
      "Epoch 7/10\n",
      "1563/1563 [==============================] - 44s 28ms/step - loss: 0.9376 - accuracy: 0.6746 - val_loss: 1.0252 - val_accuracy: 0.6428\n",
      "Epoch 8/10\n",
      "1563/1563 [==============================] - 44s 28ms/step - loss: 0.9117 - accuracy: 0.6834 - val_loss: 1.0336 - val_accuracy: 0.6407\n",
      "Epoch 9/10\n",
      "1563/1563 [==============================] - 45s 29ms/step - loss: 0.8882 - accuracy: 0.6924 - val_loss: 0.9938 - val_accuracy: 0.6542\n",
      "Epoch 10/10\n",
      "1563/1563 [==============================] - 44s 28ms/step - loss: 0.8663 - accuracy: 0.6992 - val_loss: 1.0039 - val_accuracy: 0.6515\n"
     ]
    },
    {
     "data": {
      "text/plain": [
       "<keras.callbacks.History at 0x7f56ea4b1070>"
      ]
     },
     "execution_count": 26,
     "metadata": {},
     "output_type": "execute_result"
    }
   ],
   "source": [
    "model.fit(x_train, y_train, epochs=10, validation_data=(x_test, y_test))"
   ]
  },
  {
   "cell_type": "markdown",
   "id": "La9nd_jQHQDU",
   "metadata": {
    "id": "La9nd_jQHQDU"
   },
   "source": [
    "**Task 6**"
   ]
  },
  {
   "cell_type": "code",
   "execution_count": 31,
   "id": "1jvbMkVKFI6Z",
   "metadata": {
    "colab": {
     "base_uri": "https://localhost:8080/"
    },
    "id": "1jvbMkVKFI6Z",
    "outputId": "18597ba7-2219-4e1c-bf6f-4f8c4cbbe5d3"
   },
   "outputs": [
    {
     "name": "stdout",
     "output_type": "stream",
     "text": [
      "313/313 [==============================] - 3s 10ms/step - loss: 1.0039 - accuracy: 0.6515\n",
      "Test accuracy: 0.6514999866485596\n"
     ]
    }
   ],
   "source": [
    "score = model.evaluate(x_test, y_test)\n",
    "print('Test accuracy:', score[1])"
   ]
  }
 ],
 "metadata": {
  "colab": {
   "provenance": []
  },
  "kernelspec": {
   "display_name": "Python 3 (ipykernel)",
   "language": "python",
   "name": "python3"
  },
  "language_info": {
   "codemirror_mode": {
    "name": "ipython",
    "version": 3
   },
   "file_extension": ".py",
   "mimetype": "text/x-python",
   "name": "python",
   "nbconvert_exporter": "python",
   "pygments_lexer": "ipython3",
   "version": "3.9.12"
  }
 },
 "nbformat": 4,
 "nbformat_minor": 5
}
